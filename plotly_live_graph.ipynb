{
 "metadata": {
  "language_info": {
   "codemirror_mode": {
    "name": "ipython",
    "version": 3
   },
   "file_extension": ".py",
   "mimetype": "text/x-python",
   "name": "python",
   "nbconvert_exporter": "python",
   "pygments_lexer": "ipython3",
   "version": 3
  },
  "orig_nbformat": 2,
  "kernelspec": {
   "name": "python_defaultSpec_1597086696410",
   "display_name": "Python 3.7.3 64-bit ('base': conda)"
  }
 },
 "nbformat": 4,
 "nbformat_minor": 2,
 "cells": [
  {
   "cell_type": "markdown",
   "metadata": {},
   "source": [
    "# plotly live graph test\n",
    "\n",
    "Resources:\n",
    "- Plotly FigureWidget Overview in Python https://plotly.com/python/figurewidget/"
   ]
  },
  {
   "cell_type": "code",
   "execution_count": null,
   "metadata": {},
   "outputs": [],
   "source": [
    "# importing libraries\n",
    "import plotly.graph_objects as go # to make a graph\n",
    "import numpy as np # to generate test data"
   ]
  },
  {
   "cell_type": "markdown",
   "metadata": {},
   "source": [
    "creating live graph with plotly:\n",
    "\n",
    "1. create figure widget with `go.FigureWidget()`\n",
    "2. add plot to the figure widget \n",
    "3. update the plot \n",
    "\n",
    "Notes:\n",
    "\n",
    "- the order which the plot added matters to reference the correct plot for update\n",
    "- even while updating, the intarctivity is the same (you can hover, zoom and etc with the graph)"
   ]
  },
  {
   "cell_type": "code",
   "execution_count": 19,
   "metadata": {},
   "outputs": [
    {
     "output_type": "display_data",
     "data": {
      "text/plain": "FigureWidget({\n    'data': [], 'layout': {'template': '...'}\n})",
      "application/vnd.jupyter.widget-view+json": {
       "version_major": 2,
       "version_minor": 0,
       "model_id": "82bee43f22614a899db40ad65bbd549e"
      }
     },
     "metadata": {}
    }
   ],
   "source": [
    "# creating a figure widget. this will be updated in later cells\n",
    "fig = go.FigureWidget()\n",
    "fig "
   ]
  },
  {
   "cell_type": "code",
   "execution_count": 20,
   "metadata": {},
   "outputs": [],
   "source": [
    "# let's add plot. add ; at the end of the code to ommit the output in this cell,\n",
    "# because the figure widget above will be updated instead\n",
    "N = 100 # data size\n",
    "x = np.linspace(0, 20, N)\n",
    "y = np.random.rand(N)\n",
    "\n",
    "fig.add_scatter(x=x, y=y);"
   ]
  },
  {
   "cell_type": "code",
   "execution_count": 21,
   "metadata": {},
   "outputs": [],
   "source": [
    "# to update the plot, take the correct reference by fig.data[i] where i is the order which you added the plot\n",
    "# in this example, let's modefiy the first scatter plot (fig.data[0])\n",
    "\n",
    "# getting reference from the graph\n",
    "first_scatter_plot = fig.data[0] \n",
    "\n",
    "# assine new random values. as soon as this code is excuted, the graph above will be updated. \n",
    "first_scatter_plot.y = np.random.rand(N) "
   ]
  },
  {
   "cell_type": "code",
   "execution_count": 24,
   "metadata": {},
   "outputs": [],
   "source": [
    "# let's update the graph multiple time\n",
    "\n",
    "FRAME = 100 # how many times which update the graph\n",
    "first_scatter_plot = fig.data[0] # getting reference from the graph\n",
    "\n",
    "for i in range(FRAME):\n",
    "    first_scatter_plot.y = np.random.rand(N)"
   ]
  },
  {
   "cell_type": "markdown",
   "metadata": {},
   "source": [
    "optional: add and update other params such as title text"
   ]
  },
  {
   "cell_type": "code",
   "execution_count": null,
   "metadata": {},
   "outputs": [],
   "source": [
    "# adding new title\n",
    "fig.update_layout(title='NEW TITLE');"
   ]
  },
  {
   "cell_type": "code",
   "execution_count": null,
   "metadata": {},
   "outputs": [],
   "source": [
    "# update the title\n",
    "fig.update_layout(title='UPDATED TITLE');"
   ]
  },
  {
   "cell_type": "code",
   "execution_count": 26,
   "metadata": {},
   "outputs": [],
   "source": [
    "# let's update both title and the y data at the same time\n",
    "FRAME = 1000 # how many times which update the graph\n",
    "first_scatter_plot = fig.data[0] # getting reference from the graph\n",
    "\n",
    "for i in range(FRAME):\n",
    "    first_scatter_plot.y = np.random.rand(N) # updating y data\n",
    "    fig.update_layout(title=f'FRAME: {i + 1}');\n",
    "\n"
   ]
  },
  {
   "cell_type": "code",
   "execution_count": null,
   "metadata": {},
   "outputs": [],
   "source": [
    "# there are more things you can update such as template (the style of the graph)\n",
    "fig.update_layout(template='plotly_white', width=800, height=500);"
   ]
  },
  {
   "cell_type": "code",
   "execution_count": 25,
   "metadata": {},
   "outputs": [],
   "source": [
    "# Modify axes range using plotly https://stackoverflow.com/questions/36898483/modify-axes-range-using-plotly\n",
    "# updating y axis value\n",
    "fig.update_yaxes(range=[0.0, 1.0]);"
   ]
  },
  {
   "cell_type": "markdown",
   "metadata": {},
   "source": [
    "the updated y axis value reamins even if you update the data"
   ]
  },
  {
   "cell_type": "markdown",
   "metadata": {},
   "source": [
    "saving to an html file https://plotly.com/python/interactive-html-export/\n",
    "\n",
    "this way, the interactivity remains when opening saved html figure with browser."
   ]
  },
  {
   "cell_type": "code",
   "execution_count": null,
   "metadata": {},
   "outputs": [],
   "source": [
    "# saving as pdf or svg https://plotly.com/python/static-image-export/\n",
    "import os\n",
    "\n",
    "if not os.path.exists(\"images\"):\n",
    "    os.mkdir(\"images\") # relative path"
   ]
  },
  {
   "cell_type": "code",
   "execution_count": 27,
   "metadata": {},
   "outputs": [],
   "source": [
    "# saving as svg\n",
    "fig.write_image('images/file.png')\n",
    "\n",
    "# saving figure as html\n",
    "fig.write_html(\"images/file.html\")"
   ]
  },
  {
   "cell_type": "code",
   "execution_count": null,
   "metadata": {},
   "outputs": [],
   "source": []
  }
 ]
}